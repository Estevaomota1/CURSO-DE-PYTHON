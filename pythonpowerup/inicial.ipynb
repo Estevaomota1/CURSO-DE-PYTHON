{
 "cells": [
  {
   "cell_type": "markdown",
   "metadata": {},
   "source": [
    "# Python Insights - Analisando Dados com Python\n",
    "\n",
    "### Case - Cancelamento de Clientes\n",
    "\n",
    "Você foi contratado por uma empresa com mais de 800 mil clientes para um projeto de Dados. Recentemente a empresa percebeu que da sua base total de clientes, a maioria são clientes inativos, ou seja, que já cancelaram o serviço.\n",
    "\n",
    "Precisando melhorar seus resultados ela quer conseguir entender os principais motivos desses cancelamentos e quais as ações mais eficientes para reduzir esse número.\n",
    "\n",
    "Base de dados e arquivos: https://drive.google.com/drive/folders/1uDesZePdkhiraJmiyeZ-w5tfc8XsNYFZ?usp=drive_link"
   ]
  },
  {
   "cell_type": "code",
   "execution_count": 1,
   "metadata": {},
   "outputs": [
    {
     "ename": "ModuleNotFoundError",
     "evalue": "No module named 'pandas'",
     "output_type": "error",
     "traceback": [
      "\u001b[1;31m---------------------------------------------------------------------------\u001b[0m",
      "\u001b[1;31mModuleNotFoundError\u001b[0m                       Traceback (most recent call last)",
      "\u001b[1;32mc:\\Users\\User\\Desktop\\pythonpowerup\\inicial.ipynb Célula 2\u001b[0m line \u001b[0;36m2\n\u001b[0;32m      <a href='vscode-notebook-cell:/c%3A/Users/User/Desktop/pythonpowerup/inicial.ipynb#W1sZmlsZQ%3D%3D?line=0'>1</a>\u001b[0m \u001b[39m#Passo a passo\u001b[39;00m\n\u001b[1;32m----> <a href='vscode-notebook-cell:/c%3A/Users/User/Desktop/pythonpowerup/inicial.ipynb#W1sZmlsZQ%3D%3D?line=1'>2</a>\u001b[0m \u001b[39mimport\u001b[39;00m \u001b[39mpandas\u001b[39;00m \u001b[39mas\u001b[39;00m \u001b[39mpd\u001b[39;00m\n\u001b[0;32m      <a href='vscode-notebook-cell:/c%3A/Users/User/Desktop/pythonpowerup/inicial.ipynb#W1sZmlsZQ%3D%3D?line=5'>6</a>\u001b[0m tabela \u001b[39m=\u001b[39m pandas\u001b[39m.\u001b[39mread_csv(\u001b[39m\"\u001b[39m\u001b[39mcancelamentos_sample.csv\u001b[39m\u001b[39m\"\u001b[39m)\n\u001b[0;32m      <a href='vscode-notebook-cell:/c%3A/Users/User/Desktop/pythonpowerup/inicial.ipynb#W1sZmlsZQ%3D%3D?line=6'>7</a>\u001b[0m tabela \u001b[39m=\u001b[39m tabela\u001b[39m.\u001b[39mdrop(coluns\u001b[39m=\u001b[39m\u001b[39m\"\u001b[39m\u001b[39mCustumerID\u001b[39m\u001b[39m\"\u001b[39m)\n",
      "\u001b[1;31mModuleNotFoundError\u001b[0m: No module named 'pandas'"
     ]
    }
   ],
   "source": [
    "#Passo a passo\n",
    "import pandas as pd\n",
    "\n",
    "\n",
    "\n",
    "tabela = pandas.read_csv(\"cancelamentos_sample.csv\")\n",
    "tabela = tabela.drop(coluns=\"CustumerID\")\n",
    "display(tabela)\n",
    "\n",
    "tabela = tabela.dropna()\n",
    "display(tabela.info( ))\n",
    "\n",
    "\n",
    "\n",
    "tabela= tabela[[\"duracao_contrato\"] != \"Monthly\"]\n",
    "display(tabela[\"Cancelou\"].valuecounts())\n",
    "display(tabela[\"Cancelou\"].valuecounts(normalize=True).map(\"{:,1%})\".format))\n",
    "\n",
    "agrupamento = tabela.grupby(\"duracao_contrato\").mean(numeric_only=True)\n",
    "\n",
    "display(agrupamento)\n",
    "\n",
    "import plotly.express as px\n",
    "\n",
    "\n",
    "for coluna in tabela.columns:\n",
    "    grafico = px.histogram(tabela, x=coluna,color=\"cancelou\")\n",
    "\n",
    "    grafico.snow()\n",
    "\n"
   ]
  }
 ],
 "metadata": {
  "kernelspec": {
   "display_name": "base",
   "language": "python",
   "name": "python3"
  },
  "language_info": {
   "codemirror_mode": {
    "name": "ipython",
    "version": 3
   },
   "file_extension": ".py",
   "mimetype": "text/x-python",
   "name": "python",
   "nbconvert_exporter": "python",
   "pygments_lexer": "ipython3",
   "version": "3.11.5"
  },
  "orig_nbformat": 4
 },
 "nbformat": 4,
 "nbformat_minor": 2
}
